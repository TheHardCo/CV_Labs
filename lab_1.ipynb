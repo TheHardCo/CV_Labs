{
 "cells": [
  {
   "cell_type": "code",
   "execution_count": 1,
   "metadata": {},
   "outputs": [],
   "source": [
    "import numpy as np\n",
    "import cv2"
   ]
  },
  {
   "cell_type": "code",
   "execution_count": 2,
   "metadata": {},
   "outputs": [],
   "source": [
    "def box_blur(image, kernel):\n",
    "\n",
    "    kernel_row, kernel_col = kernel.shape\n",
    "    im_row, im_col = image.shape\n",
    "    \n",
    "    blur_row = im_row - kernel_row + 1\n",
    "    blur_col = im_col - kernel_col + 1\n",
    "\n",
    "    blur = np.zeros((blur_row, blur_col))\n",
    "\n",
    "    for i in range(im_col):\n",
    "        if i > im_col - kernel_col:\n",
    "            break\n",
    "        for j in range(im_row):\n",
    "            if j > im_row - kernel_row:\n",
    "                break\n",
    "            blur[j, i] = (kernel * image[j: j + kernel_row, i: i + kernel_col]).sum()\n",
    "\n",
    "    return blur"
   ]
  },
  {
   "cell_type": "code",
   "execution_count": 24,
   "metadata": {},
   "outputs": [
    {
     "data": {
      "text/plain": [
       "True"
      ]
     },
     "execution_count": 24,
     "metadata": {},
     "output_type": "execute_result"
    }
   ],
   "source": [
    "image_name = 'detailed.jpg'\n",
    "# detailed.jpg\n",
    "# low_detail.jpg\n",
    "# low_contrast.jpg\n",
    "# contrast.jpg\n",
    "image = cv2.imread(image_name) \n",
    "image = cv2.cvtColor(src=image, code=cv2.COLOR_BGR2GRAY) \n",
    "\n",
    "kernel = np.ones((15,15),np.float32) / 225\n",
    "#  np.ones((5,5),np.float32) / 25\n",
    "#  np.ones((10,10),np.float32) / 100\n",
    "#  np.ones((15,15),np.float32) / 225\n",
    "blurred = box_blur(image, kernel)\n",
    "cv2.imwrite(f'blurred/k15_{image_name}', blurred) "
   ]
  }
 ],
 "metadata": {
  "interpreter": {
   "hash": "2db524e06e9f5f4ffedc911c917cb75e12dbc923643829bf417064a77eb14d37"
  },
  "kernelspec": {
   "display_name": "Python 3.8.2 64-bit",
   "language": "python",
   "name": "python3"
  },
  "language_info": {
   "codemirror_mode": {
    "name": "ipython",
    "version": 3
   },
   "file_extension": ".py",
   "mimetype": "text/x-python",
   "name": "python",
   "nbconvert_exporter": "python",
   "pygments_lexer": "ipython3",
   "version": "3.8.2"
  },
  "orig_nbformat": 4
 },
 "nbformat": 4,
 "nbformat_minor": 2
}
